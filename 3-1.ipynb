{
  "nbformat": 4,
  "nbformat_minor": 0,
  "metadata": {
    "colab": {
      "name": "Untitled3.ipynb",
      "version": "0.3.2",
      "provenance": []
    },
    "kernelspec": {
      "name": "python3",
      "display_name": "Python 3"
    }
  },
  "cells": [
    {
      "metadata": {
        "id": "rzDCJK4nKiBR",
        "colab_type": "code",
        "colab": {
          "base_uri": "https://localhost:8080/",
          "height": 175
        },
        "outputId": "e13039c9-34c8-494d-ecde-ad62bdddfd06"
      },
      "cell_type": "code",
      "source": [
        "my_int = 87\n",
        "my_float = 8.7\n",
        "my_complex = 8 + 7j\n",
        "my_bool = True\n",
        "my_str = \"Introduction to Python Data Science\"\n",
        "\n",
        "type(87)\n",
        "type(8.7)\n",
        "type(8 + 7j)\n",
        "type(True)\n",
        "type(False)\n",
        "type(\"Introduction to Python Data Science\")\n",
        "\n",
        "\n",
        "print (\"開始輸出\")\n",
        "print (1, 2, 3)\n",
        "print (1, 2, 3, sep = \" \", end = \" \")\n",
        "print(4, 5, 6, sep=\"|\", end=\"\\n\")\n",
        "\n",
        "score = 66\n",
        "print(\"⼤明的數學成績：%d\" % score)\n",
        "print(\"%5s的數學成績：%5.2f\" %(\"Jenny\", 95))\n",
        "print(\"%5s的數學成績：%5.2f\" %(\"Andy\", 80.2))\n",
        "print(\"{0}今年{1}歲。\" .format(\"王⼩明\" , 18))\n",
        "print(\"{name}今年{age}歲。\" .format(name = \"王⼩明\" , age = 18))\n",
        "name = input(\"請輸入姓名\")\n",
        "chinese_grade = input(\"請輸入國⽂成績\")\n",
        "english_grade = input(\"請輸入英⽂成績\")\n",
        "print(\"{0:8}{1:>5}{2:>5}\" .format(\"姓名\",\"國⽂\",\"英⽂\"))\n",
        "print(\"{0:<10}{1:>6}{2:>6}\" .format(name,chinese_grade,english_grade))"
      ],
      "execution_count": 0,
      "outputs": [
        {
          "output_type": "stream",
          "text": [
            "開始輸出\n",
            "1 2 3\n",
            "1 2 3 4|5|6\n",
            "⼤明的數學成績：66\n",
            "Jenny的數學成績：95.00\n",
            " Andy的數學成績：80.20\n",
            "王⼩明今年18歲。\n",
            "王⼩明今年18歲。\n"
          ],
          "name": "stdout"
        }
      ]
    },
    {
      "metadata": {
        "id": "vsoR583qKkZV",
        "colab_type": "code",
        "colab": {}
      },
      "cell_type": "code",
      "source": [
        "8 + 7\n",
        "8 - 7\n",
        "8 * 7\n",
        "8 / 7\n",
        "8 ** 2\n",
        "8 % 7\n",
        "\n",
        "8 / 7.0\n",
        "8 + (8 + 7j)\n",
        "\"---\"\n",
        "type(8 / 7.0)\n",
        "type(8 + (8 + 7j))\n",
        "type(\"---\")"
      ],
      "execution_count": 0,
      "outputs": []
    },
    {
      "metadata": {
        "id": "JKiIpsOcKpnC",
        "colab_type": "code",
        "colab": {}
      },
      "cell_type": "code",
      "source": [
        "x = \"5\"\n",
        "num = 5 + int(x)\n",
        "print(num)"
      ],
      "execution_count": 0,
      "outputs": []
    },
    {
      "metadata": {
        "id": "k8sN6CYrKsFN",
        "colab_type": "code",
        "colab": {}
      },
      "cell_type": "code",
      "source": [
        "x = \"5.3\"\n",
        "num = 5 + float(x)\n",
        "print(num)"
      ],
      "execution_count": 0,
      "outputs": []
    },
    {
      "metadata": {
        "id": "D_6qNN7dKv2u",
        "colab_type": "code",
        "colab": {}
      },
      "cell_type": "code",
      "source": [
        "x = \"5.3\"\n",
        "num = 5 + float(x)\n",
        "print(\"輸出的數值是\" + str(num))"
      ],
      "execution_count": 0,
      "outputs": []
    },
    {
      "metadata": {
        "id": "DGrakQo-KyE2",
        "colab_type": "code",
        "colab": {}
      },
      "cell_type": "code",
      "source": [
        "8 == 7\n",
        "8 != 7\n",
        "8 > 7\n",
        "8 < 7\n",
        "8 > 7"
      ],
      "execution_count": 0,
      "outputs": []
    },
    {
      "metadata": {
        "id": "RaWnqJPnK0lJ",
        "colab_type": "code",
        "colab": {}
      },
      "cell_type": "code",
      "source": [
        "True and True\n",
        "True and False\n",
        "False & True\n",
        "False & False\n",
        "print(\"---\")\n",
        "True or True\n",
        "True or False\n",
        "False | True\n",
        "False | False\n",
        "print(\"---\")\n",
        "print not True\n",
        "print not False"
      ],
      "execution_count": 0,
      "outputs": []
    },
    {
      "metadata": {
        "id": "EfNnXwQeK2yJ",
        "colab_type": "code",
        "colab": {}
      },
      "cell_type": "code",
      "source": [
        "8 + True\n",
        "8 - False\n",
        "8 * False\n",
        "8 / True"
      ],
      "execution_count": 0,
      "outputs": []
    },
    {
      "metadata": {
        "id": "Ch9_cCbFK41l",
        "colab_type": "code",
        "colab": {}
      },
      "cell_type": "code",
      "source": [
        "True == 1\n",
        "True == 1.0\n",
        "True == 1 + 0j\n",
        "print(\"---\")\n",
        "False == 0\n",
        "False == 0.0\n",
        "False == 0 + 0j"
      ],
      "execution_count": 0,
      "outputs": []
    },
    {
      "metadata": {
        "id": "W0MvP0KWK6wN",
        "colab_type": "code",
        "colab": {}
      },
      "cell_type": "code",
      "source": [
        "'I am loving it!'\n",
        "'I\\'m loving it!'\n",
        "'I don\\'t think you\\'ll ever be just \"anybody\".'\n",
        "\"I don't think you'll ever be just \\\"anybody\\\".\""
      ],
      "execution_count": 0,
      "outputs": []
    },
    {
      "metadata": {
        "id": "cyDpKYLgK8mU",
        "colab_type": "code",
        "colab": {}
      },
      "cell_type": "code",
      "source": [
        "str1 = \"Hello!\" + \"How Are You?\"\n",
        "print(str1)\n",
        "str2 = \"Hello!\" * 3\n",
        "print(str2)\n",
        "str3 = \"Hello!\\nHow Are You?\"\n",
        "print(str3)\n",
        "print \"I'm\" + \" loving\" + \" it!\"\n",
        "print \"I'm loving it\" + \"!\" * 3"
      ],
      "execution_count": 0,
      "outputs": []
    },
    {
      "metadata": {
        "id": "g4v7xPt2K-Ee",
        "colab_type": "code",
        "colab": {}
      },
      "cell_type": "code",
      "source": [
        "str = \"ABCDEFGHIJK\"\n",
        "print(str[0])\n",
        "print(str[-2])\n",
        "print(str[:7:2])\n",
        "print(str[2::2])\n",
        "print(str[::2])\n",
        "str1 = \"Do \\none \\nthing \\nat a time!\"\n",
        "print(str1.split())\n",
        "print(str1.split( ' ', 2 ))"
      ],
      "execution_count": 0,
      "outputs": []
    },
    {
      "metadata": {
        "id": "1kl3DWTNLBE2",
        "colab_type": "code",
        "colab": {}
      },
      "cell_type": "code",
      "source": [
        "str = \"The first wealth is health! Health is important!\"\n",
        "print (\"{},長度是{}\" .format(str, len(str)))\n",
        "print(str.upper())\n",
        "print(str.lower())\n",
        "print(\"health\".capitalize())\n",
        "str.islower()\n",
        "str.count(\"health\")\n",
        "str.strip(\"h!\")\n",
        "str.replace(\"important\", \"重要\")"
      ],
      "execution_count": 0,
      "outputs": []
    },
    {
      "metadata": {
        "id": "YbaATEuPLKrl",
        "colab_type": "code",
        "colab": {}
      },
      "cell_type": "code",
      "source": [
        "from datetime import date\n",
        "sys_date = date.today()\n",
        "print sys_date\n",
        "print type(sys_date)"
      ],
      "execution_count": 0,
      "outputs": []
    },
    {
      "metadata": {
        "id": "zeVOvOT8LMHD",
        "colab_type": "code",
        "colab": {}
      },
      "cell_type": "code",
      "source": [
        "from datetime import date\n",
        "start_of_2017 = date(2017, 1, 1)\n",
        "end_of_2017 = date(2017, 12, 31)\n",
        "start_of_2017\n",
        "end_of_2017"
      ],
      "execution_count": 0,
      "outputs": []
    },
    {
      "metadata": {
        "id": "G7xzQE-oLNpt",
        "colab_type": "code",
        "colab": {}
      },
      "cell_type": "code",
      "source": [
        "from datetime import date\n",
        "start_of_2017 = date(2017, 1, 1)\n",
        "start_of_2018 = start_of_2017.replace(year = 2018)\n",
        "start_of_2018"
      ],
      "execution_count": 0,
      "outputs": []
    },
    {
      "metadata": {
        "id": "QOuvcedOLPmk",
        "colab_type": "code",
        "colab": {}
      },
      "cell_type": "code",
      "source": [
        "from datetime import date\n",
        "start_of_2017 = date(2017, 1, 1)\n",
        "end_of_2017 = start_of_2017.replace(month = 12, day = 31)\n",
        "days_dff = end_of_2017 - start_of_2017\n",
        "days_dff.days"
      ],
      "execution_count": 0,
      "outputs": []
    },
    {
      "metadata": {
        "id": "zwgofknxLP2Z",
        "colab_type": "code",
        "colab": {}
      },
      "cell_type": "code",
      "source": [
        "from datetime import time\n",
        "sleep_time = time(23, 0, 0)\n",
        "sleep_time\n",
        "type(sleep_time)"
      ],
      "execution_count": 0,
      "outputs": []
    },
    {
      "metadata": {
        "id": "iilrpm--LP5V",
        "colab_type": "code",
        "colab": {}
      },
      "cell_type": "code",
      "source": [
        "from datetime import time\n",
        "sleep_time = time(23, 0, 0)\n",
        "wake_up_time = sleep_time.replace(hour = 7)\n",
        "wake_up_time"
      ],
      "execution_count": 0,
      "outputs": []
    },
    {
      "metadata": {
        "id": "4J5A0z_4LP78",
        "colab_type": "code",
        "colab": {}
      },
      "cell_type": "code",
      "source": [
        "from datetime import datetime\n",
        "sys_datetime = datetime.now()\n",
        "sys_datetime\n",
        "type(sys_datetime)"
      ],
      "execution_count": 0,
      "outputs": []
    },
    {
      "metadata": {
        "id": "F0YA8JQALP-b",
        "colab_type": "code",
        "colab": {}
      },
      "cell_type": "code",
      "source": [
        "from datetime import datetime\n",
        "start_of_2017 = datetime(2017, 1, 1, 0, 0, 0)\n",
        "start_of_2017"
      ],
      "execution_count": 0,
      "outputs": []
    },
    {
      "metadata": {
        "id": "uPSoWU71LQBG",
        "colab_type": "code",
        "colab": {}
      },
      "cell_type": "code",
      "source": [
        "from datetime import datetime\n",
        "start_of_2017 = datetime(2017, 1, 1, 0, 0, 1)\n",
        "end_of_2017 = start_of_2017.replace(month = 12, day = 31, hour = 23, minute = 59, second = 59)\n",
        "end_of_2017"
      ],
      "execution_count": 0,
      "outputs": []
    },
    {
      "metadata": {
        "id": "A4JO75ncLQDd",
        "colab_type": "code",
        "colab": {}
      },
      "cell_type": "code",
      "source": [
        "from datetime import datetime\n",
        "start_of_2017 = datetime(2017, 1, 1, 0, 0, 1)\n",
        "end_of_2017 = start_of_2017.replace(month = 12, day = 31, hour = 23, minute = 59, second = 59)\n",
        "date_time_diff = end_of_2017 - start_of_2017\n",
        "date_time_diff.days\n",
        "date_time_diff.seconds"
      ],
      "execution_count": 0,
      "outputs": []
    },
    {
      "metadata": {
        "id": "UYp3UpOaLQF6",
        "colab_type": "code",
        "colab": {}
      },
      "cell_type": "code",
      "source": [
        "starring_1 = \"Jennifer Aniston\"\n",
        "starring_2 = \"Courteney Cox\"\n",
        "starring_3 = \"Lisa Kudrow\"\n",
        "starring_4 = \"Matt LeBlanc\"\n",
        "starring_5 = \"Matthew Perry\"\n",
        "starring_6 = \"David Schwimmer\""
      ],
      "execution_count": 0,
      "outputs": []
    },
    {
      "metadata": {
        "id": "aEMqeQSWLQIN",
        "colab_type": "code",
        "colab": {}
      },
      "cell_type": "code",
      "source": [
        "starrings = [\"Jennifer Aniston\", \"Courteney Cox\", \"Lisa Kudrow\", \"Matt LeBlanc\", \"Matthew Perry\", \"David Schwimmer\"]\n",
        "starrings"
      ],
      "execution_count": 0,
      "outputs": []
    },
    {
      "metadata": {
        "id": "NjT7ldjXLQKd",
        "colab_type": "code",
        "colab": {}
      },
      "cell_type": "code",
      "source": [
        "＃例⼀\n",
        "genre = \"sitcom\"\n",
        "no_of_episodes = 236\n",
        "still_airing = False\n",
        "friends = [genre, no_of_episodes, still_airing]\n",
        "friends\n",
        "type(friends)\n",
        "#例⼆\n",
        "team_name = \"Chicago Bulls\"\n",
        "wins = 72\n",
        "losses = 10\n",
        "win_percentage = wins / (wins + losses)\n",
        "is_champion = True\n",
        "chicago_bulls = [team_name, wins, losses, win_percentage, is_champion]"
      ],
      "execution_count": 0,
      "outputs": []
    },
    {
      "metadata": {
        "id": "C2EsOLFFLQNG",
        "colab_type": "code",
        "colab": {}
      },
      "cell_type": "code",
      "source": [
        "frunitlist = [\"Apple\", \"Orange\", \"Lemon\"]\n",
        "print(len(fruitlist))\n",
        "fruitlist[1] =\"Kiwi\"\n",
        "fruitlist.append(\"Mongo\")\n",
        "fruiutlist.insert(1, \"banana\")\n",
        "fruitlist.remove(\"Orange\")\n",
        "fruitlist.pop(1)\n",
        "fruitlist.sort()"
      ],
      "execution_count": 0,
      "outputs": []
    },
    {
      "metadata": {
        "id": "UvzXtCARLQPe",
        "colab_type": "code",
        "colab": {}
      },
      "cell_type": "code",
      "source": [
        "starrings = [\"Jennifer Aniston\", \"Courteney Cox\", \"Lisa Kudrow\", \"Matt LeBlanc\", \"Matthew Perry\", \"David Schwimmer\"]\n",
        "starrings[0]\n",
        "starrings[-1]\n",
        "starrings[:3]\n",
        "starrings[3:]"
      ],
      "execution_count": 0,
      "outputs": []
    },
    {
      "metadata": {
        "id": "UC0D2psANlXW",
        "colab_type": "code",
        "colab": {}
      },
      "cell_type": "code",
      "source": [
        "genre = \"sitcom\"\n",
        "no_of_episodes = 236\n",
        "still_airing = False\n",
        "friends = [genre, no_of_episodes, still_airing]\n",
        "type(friends[0])\n",
        "type(friends[1])\n",
        "type(friends[2])"
      ],
      "execution_count": 0,
      "outputs": []
    },
    {
      "metadata": {
        "id": "0VanREp0Nlhe",
        "colab_type": "code",
        "colab": {}
      },
      "cell_type": "code",
      "source": [
        "#練習題\n",
        "print (48.195 * 0.62137)\n",
        "my_height = 170\n",
        "print (my_height)\n",
        "my_weight = 70\n",
        "print (my_weight)\n",
        "\n",
        "my_height = 170\n",
        "my_weight = 70\n",
        "bmi = my_weight / (my_height / 100)**2\n",
        "print(bmi)"
      ],
      "execution_count": 0,
      "outputs": []
    }
  ]
}